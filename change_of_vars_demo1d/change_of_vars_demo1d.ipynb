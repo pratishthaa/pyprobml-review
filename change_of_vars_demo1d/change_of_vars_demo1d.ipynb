{
  "nbformat": 4,
  "nbformat_minor": 0,
  "metadata": {
    "colab": {
      "name": "change_of_vars_demo1d.ipynb",
      "provenance": []
    },
    "kernelspec": {
      "name": "python3",
      "display_name": "Python 3"
    },
    "language_info": {
      "name": "python"
    }
  },
  "cells": [
    {
      "cell_type": "markdown",
      "source": [
        "## Monte Carlo approximation"
      ],
      "metadata": {
        "id": "EZzcKg09X9N_"
      }
    },
    {
      "cell_type": "code",
      "source": [
        "try:\n",
        "    import jax\n",
        "except:\n",
        "    %pip install jax jaxlib\n",
        "    import jax\n",
        "import jax.numpy as jnp\n",
        "\n",
        "try:\n",
        "    import matplotlib.pyplot as plt\n",
        "except:\n",
        "    %pip install matplotlib\n",
        "    import matplotlib.pyplot as plt\n",
        "\n",
        "try:\n",
        "    import seaborn as sns\n",
        "except:\n",
        "    %pip install seaborn\n",
        "    import seaborn as sns"
      ],
      "metadata": {
        "id": "m2Kj_FE3POnZ"
      },
      "execution_count": 3,
      "outputs": []
    },
    {
      "cell_type": "code",
      "source": [
        "import os\n",
        "import matplotlib.pyplot as plt\n",
        "\n",
        "DEFAULT_WIDTH = 6.0\n",
        "# GOLDEN_MEAN = (5**0.5 - 1.0) / 2.0  # Aesthetic ratio\n",
        "DEFAULT_HEIGHT = 1.5\n",
        "SIZE_SMALL = 9  # Caption size in the book\n",
        "DEFAULT_FIG_PATH = \"figures\"\n",
        "# SPLINE_COLOR = 'gray'\n",
        "\n",
        "\n",
        "def latexify(\n",
        "    width_scale_factor=1,\n",
        "    height_scale_factor=1,\n",
        "    fig_width=None,\n",
        "    fig_height=None,\n",
        "    font_size=SIZE_SMALL,\n",
        "):\n",
        "    f\"\"\"\n",
        "    width_scale_factor: float, DEFAULT_WIDTH will be divided by this number, DEFAULT_WIDTH is page width: {DEFAULT_WIDTH} inches.\n",
        "    height_scale_factor: float, DEFAULT_HEIGHT will be divided by this number, DEFAULT_HEIGHT is {DEFAULT_HEIGHT} inches.\n",
        "    fig_width: float, width of the figure in inches (if this is specified, width_scale_factor is ignored)\n",
        "    fig_height: float, height of the figure in inches (if this is specified, height_scale_factor is ignored)\n",
        "    font_size: float, font size\n",
        "    \"\"\"\n",
        "    if fig_width is None:\n",
        "        fig_width = DEFAULT_WIDTH / width_scale_factor\n",
        "    if fig_height is None:\n",
        "        fig_height = DEFAULT_HEIGHT / height_scale_factor\n",
        "\n",
        "    # use TrueType fonts so they are embedded\n",
        "    # https://stackoverflow.com/questions/9054884/how-to-embed-fonts-in-pdfs-produced-by-matplotlib\n",
        "    # https://jdhao.github.io/2018/01/18/mpl-plotting-notes-201801/\n",
        "    plt.rcParams[\"pdf.fonttype\"] = 42\n",
        "\n",
        "    # Font sizes\n",
        "    # SIZE_MEDIUM = 14\n",
        "    # SIZE_LARGE = 24\n",
        "    # https://stackoverflow.com/a/39566040\n",
        "    plt.rc(\"font\", size=font_size)  # controls default text sizes\n",
        "    plt.rc(\"axes\", titlesize=font_size)  # fontsize of the axes title\n",
        "    plt.rc(\"axes\", labelsize=font_size)  # fontsize of the x and y labels\n",
        "    plt.rc(\"xtick\", labelsize=font_size)  # fontsize of the tick labels\n",
        "    plt.rc(\"ytick\", labelsize=font_size)  # fontsize of the tick labels\n",
        "    plt.rc(\"legend\", fontsize=font_size)  # legend fontsize\n",
        "    plt.rc(\"figure\", titlesize=font_size)  # fontsize of the figure title\n",
        "\n",
        "    # latexify: https://nipunbatra.github.io/blog/visualisation/2014/06/02/latexify.html\n",
        "    plt.rcParams[\"backend\"] = \"ps\"\n",
        "    if not \"NO_SAVE_FIGS\" in os.environ:  # To remove latex dependency from GitHub actions\n",
        "        plt.rc(\"text\", usetex=True)\n",
        "    plt.rc(\"font\", family=\"serif\")\n",
        "    plt.rc(\"figure\", figsize=(fig_width, fig_height))\n",
        "\n",
        "\n",
        "def savefig(f_name, fig_dir=DEFAULT_FIG_PATH, tight_layout=True, *args, **kwargs):\n",
        "    if len(f_name) == 0:\n",
        "        return\n",
        "    fname_full = os.path.join(fig_dir, f_name)\n",
        "\n",
        "    if not \"NO_SAVE_FIGS\" in os.environ:\n",
        "        print(\"saving image to {}\".format(fname_full))\n",
        "        if tight_layout:\n",
        "            plt.tight_layout(pad=0)\n",
        "        print(\"Figure size:\", plt.gcf().get_size_inches())\n",
        "        plt.savefig(fname_full, pad_inches=0.0, pad=0, h_pad=0, w_pad=0, *args, **kwargs)\n",
        "        # bbox_inches=\"tight\",  # This changes the size of the figure"
      ],
      "metadata": {
        "id": "JPNeS7dHbs-n"
      },
      "execution_count": 4,
      "outputs": []
    },
    {
      "cell_type": "code",
      "source": [
        "import os\n",
        "\n",
        "# LATEXIFY = \"LATEXIFY\" in os.environ\n",
        "LATEXIFY=1\n",
        "if LATEXIFY:\n",
        "    # import sys\n",
        "\n",
        "    # sys.path.append(\"content\")  # Don't change to \"../scripts\", instead, run this nb from repo's root with ipython\n",
        "    # import latexify, savefig\n",
        "\n",
        "    latexify(width_scale_factor=2,fig_height=1.5)\n",
        "    # savefig(save_name)"
      ],
      "metadata": {
        "id": "LRSn6Jw2PVtw"
      },
      "execution_count": 5,
      "outputs": []
    },
    {
      "cell_type": "code",
      "source": [
        "# save_name=\"change_of_vars_demo1d_latexified.pdf\" \n",
        "\n",
        "xs = jnp.linspace(-1,1,21)\n",
        "a = -1\n",
        "b = 1\n",
        "prob_x = 1/(b-a) * jnp.ones(len(xs))\n",
        "\n",
        "fn = lambda x: x**2\n",
        "ys = fn(xs)\n",
        "\n",
        "#analytic\n",
        "prob_y = 1/(2*jnp.sqrt(ys))\n",
        "\n",
        "#monte carlo\n",
        "n = 1000\n",
        "key=jax.random.PRNGKey(42)\n",
        "uniform_samples = jax.random.uniform(key=key,shape=(n,),minval=a,maxval=b)\n",
        "tranisformed_samples = fn(uniform_samples)\n",
        "\n",
        "print(jnp.mean(tranisformed_samples))\n",
        "\n",
        "fig, ax = plt.subplots(nrows=1, ncols=3)\n",
        "ax[0].plot(xs, prob_x, \"-\")\n",
        "\n",
        "ax[0].set_xlabel(\"$x$\")\n",
        "ax[0].set_ylabel(\"$p(x)$\")\n",
        "ax[1].plot(ys, prob_y, \"-\")\n",
        "ax[1].set_xlabel(\"$p(x)$\")\n",
        "ax[1].set_ylabel(\"$y$\")\n",
        "sns.distplot(tranisformed_samples, kde=False, ax=ax[2], bins=20, norm_hist=True, hist_kws=dict(edgecolor=\"k\", linewidth=0.5))\n",
        "ax[2].set_xlabel(\"$p(x)$\")\n",
        "ax[2].set_ylabel(\"$y$\")\n",
        "ax[2].set_yticklabels(['0','0.1','0.2'])\n",
        "sns.despine()\n",
        "plt.subplots_adjust(left=0.1,\n",
        "                    bottom=0.1, \n",
        "                    right=0.9, \n",
        "                    top=0.9, \n",
        "                    wspace=0.4, \n",
        "                    hspace=0.4)\n",
        "if LATEXIFY:\n",
        "  figsize = None\n",
        "  savefig(\"/content/change_of_vars_demo1d_latexified.pdf\") \n",
        "\n",
        "else:\n",
        "  figsize = (10,4)\n",
        "\n",
        "plt.savefig(\"/content/changeOfVars2.pdf\")\n",
        "\n",
        "plt.show()\n"
      ],
      "metadata": {
        "colab": {
          "base_uri": "https://localhost:8080/",
          "height": 263
        },
        "id": "QJu2XvUtjDLc",
        "outputId": "605d22c3-61e1-46bc-ac01-0a82ff273956"
      },
      "execution_count": 6,
      "outputs": [
        {
          "output_type": "stream",
          "name": "stderr",
          "text": [
            "WARNING:absl:No GPU/TPU found, falling back to CPU. (Set TF_CPP_MIN_LOG_LEVEL=0 and rerun for more info.)\n"
          ]
        },
        {
          "output_type": "stream",
          "name": "stdout",
          "text": [
            "0.34349513\n",
            "saving image to /content/change_of_vars_demo1d_latexified.pdf\n"
          ]
        },
        {
          "output_type": "stream",
          "name": "stderr",
          "text": [
            "/usr/local/lib/python3.7/dist-packages/seaborn/distributions.py:2619: FutureWarning: `distplot` is a deprecated function and will be removed in a future version. Please adapt your code to use either `displot` (a figure-level function with similar flexibility) or `histplot` (an axes-level function for histograms).\n",
            "  warnings.warn(msg, FutureWarning)\n"
          ]
        },
        {
          "output_type": "stream",
          "name": "stdout",
          "text": [
            "Figure size: [3.  1.5]\n"
          ]
        },
        {
          "output_type": "display_data",
          "data": {
            "text/plain": [
              "<Figure size 216x108 with 3 Axes>"
            ],
            "image/png": "[encoded data removed]"
          },
          "metadata": {
            "needs_background": "light"
          }
        }
      ]
    },
    {
      "cell_type": "code",
      "source": [
        ""
      ],
      "metadata": {
        "id": "KfhJTrEPc8IY"
      },
      "execution_count": 6,
      "outputs": []
    }
  ]
}
