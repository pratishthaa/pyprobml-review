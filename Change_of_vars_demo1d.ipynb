{
  "nbformat": 4,
  "nbformat_minor": 0,
  "metadata": {
    "colab": {
      "name": "Change_of_vars_demo1d.ipynb",
      "provenance": []
    },
    "kernelspec": {
      "name": "python3",
      "display_name": "Python 3"
    },
    "language_info": {
      "name": "python"
    }
  },
  "cells": [
    {
      "cell_type": "code",
      "source": [
        "try:\n",
        "    import jax\n",
        "except:\n",
        "    %pip install jax jaxlib\n",
        "    import jax\n",
        "import jax.numpy as jnp\n",
        "\n",
        "try:\n",
        "    import matplotlib.pyplot as plt\n",
        "except:\n",
        "    %pip install matplotlib\n",
        "    import matplotlib.pyplot as plt\n",
        "\n",
        "try:\n",
        "    import seaborn as sns\n",
        "except:\n",
        "    %pip install seaborn\n",
        "    import seaborn as sns"
      ],
      "metadata": {
        "id": "m2Kj_FE3POnZ"
      },
      "execution_count": null,
      "outputs": []
    },
    {
      "cell_type": "code",
      "source": [
        "import os\n",
        "\n",
        "LATEXIFY = \"LATEXIFY\" in os.environ\n",
        "\n",
        "if LATEXIFY:\n",
        "    import sys\n",
        "\n",
        "    sys.path.append(\"content/scripts\")  # Don't change to \"../scripts\", instead, run this nb from repo's root with ipython\n",
        "    from plot_utils import latexify, savefig\n",
        "\n",
        "    latexify(width_scale_factor=3)"
      ],
      "metadata": {
        "id": "LRSn6Jw2PVtw"
      },
      "execution_count": null,
      "outputs": []
    },
    {
      "cell_type": "markdown",
      "source": [
        "##Source code from Github "
      ],
      "metadata": {
        "id": "2OiQ2PD9u2G4"
      }
    },
    {
      "cell_type": "code",
      "source": [
        "import numpy as np\n",
        "xs = np.linspace(-1,1,21)\n",
        "a = -1\n",
        "b = 1\n",
        "px = 1/(b-a) * np.ones(len(xs))\n",
        "\n",
        "fn = lambda x: x**2\n",
        "ys = fn(xs)\n",
        "\n",
        "#analytic\n",
        "ppy = 1/(2*np.sqrt(ys))\n",
        "\n",
        "#monte carlo\n",
        "n = 1000\n",
        "np.random.seed(42)\n",
        "samples = np.random.uniform(a,b, size=n)\n",
        "samples2 = fn(samples)\n",
        "\n",
        "print(np.mean(samples2))\n",
        "\n",
        "fig, ax = plt.subplots(nrows=1, ncols=3)\n",
        "ax[0].plot(xs, px, \"-\")\n",
        "ax[1].plot(ys, ppy, \"-\")\n",
        "sns.distplot(samples2, kde=False, ax=ax[2], bins=20, norm_hist=True, hist_kws=dict(edgecolor=\"k\", linewidth=0.5))\n",
        "plt.savefig(\"/content/changeOfVars.pdf\")\n",
        "plt.show()"
      ],
      "metadata": {
        "colab": {
          "base_uri": "https://localhost:8080/",
          "height": 372
        },
        "id": "wl7afu5Ytz1j",
        "outputId": "915ef818-0cdd-474a-fcaa-b6f5f2ad3ea0"
      },
      "execution_count": null,
      "outputs": [
        {
          "output_type": "stream",
          "name": "stderr",
          "text": [
            "/usr/local/lib/python3.7/dist-packages/ipykernel_launcher.py:11: RuntimeWarning: divide by zero encountered in true_divide\n",
            "  # This is added back by InteractiveShellApp.init_path()\n",
            "/usr/local/lib/python3.7/dist-packages/seaborn/distributions.py:2619: FutureWarning: `distplot` is a deprecated function and will be removed in a future version. Please adapt your code to use either `displot` (a figure-level function with similar flexibility) or `histplot` (an axes-level function for histograms).\n",
            "  warnings.warn(msg, FutureWarning)\n"
          ]
        },
        {
          "output_type": "stream",
          "name": "stdout",
          "text": [
            "0.3414153150423768\n"
          ]
        },
        {
          "output_type": "display_data",
          "data": {
            "text/plain": [
              "<Figure size 432x288 with 3 Axes>"
            ],
            "image/png": "[encoded data removed]"
          },
          "metadata": {
            "needs_background": "light"
          }
        }
      ]
    },
    {
      "cell_type": "markdown",
      "source": [
        "## Using JAX"
      ],
      "metadata": {
        "id": "Vazr63nJvEnU"
      }
    },
    {
      "cell_type": "code",
      "source": [
        "xs = jnp.linspace(-1,1,21)\n",
        "a = -1\n",
        "b = 1\n",
        "px = 1/(b-a) * jnp.ones(len(xs))\n",
        "\n",
        "fn = lambda x: x**2\n",
        "ys = fn(xs)\n",
        "\n",
        "#analytic\n",
        "ppy = 1/(2*jnp.sqrt(ys))\n",
        "\n",
        "#monte carlo\n",
        "n = 1000\n",
        "r=jax.random.PRNGKey(42)\n",
        "samples = jax.random.uniform(key=r,shape=(n,),minval=a,maxval=b)\n",
        "samples2 = fn(samples)\n",
        "\n",
        "print(jnp.mean(samples2))\n",
        "\n",
        "fig, ax = plt.subplots(nrows=1, ncols=3)\n",
        "ax[0].plot(xs, px, \"-\")\n",
        "\n",
        "ax[0].set_xlabel(\"$x$\")\n",
        "ax[0].set_ylabel(\"$y=(x^2)$\")\n",
        "ax[1].plot(ys, ppy, \"-\")\n",
        "ax[1].set_xlabel(\"$x$\")\n",
        "ax[1].set_ylabel(\"$Pr(y)$\")\n",
        "sns.distplot(samples2, kde=False, ax=ax[2], bins=20, norm_hist=True, hist_kws=dict(edgecolor=\"k\", linewidth=0.5))\n",
        "ax[2].set_xlabel(\"$x$\")\n",
        "ax[2].set_ylabel(\"$Pr(y)$\")\n",
        "sns.despine()\n",
        "plt.subplots_adjust(left=0.1,\n",
        "                    bottom=0.1, \n",
        "                    right=0.9, \n",
        "                    top=0.9, \n",
        "                    wspace=0.4, \n",
        "                    hspace=0.4)\n",
        "plt.savefig(\"/content/changeOfVars2.pdf\")\n",
        "plt.show()\n"
      ],
      "metadata": {
        "colab": {
          "base_uri": "https://localhost:8080/",
          "height": 364
        },
        "id": "QJu2XvUtjDLc",
        "outputId": "8a06cb31-587b-4384-d6c2-c40b9f9d634b"
      },
      "execution_count": null,
      "outputs": [
        {
          "output_type": "stream",
          "name": "stdout",
          "text": [
            "0.34349513\n"
          ]
        },
        {
          "output_type": "stream",
          "name": "stderr",
          "text": [
            "/usr/local/lib/python3.7/dist-packages/seaborn/distributions.py:2619: FutureWarning: `distplot` is a deprecated function and will be removed in a future version. Please adapt your code to use either `displot` (a figure-level function with similar flexibility) or `histplot` (an axes-level function for histograms).\n",
            "  warnings.warn(msg, FutureWarning)\n"
          ]
        },
        {
          "output_type": "display_data",
          "data": {
            "text/plain": [
              "<Figure size 432x288 with 3 Axes>"
            ],
            "image/png": "[encoded data removed]"
          },
          "metadata": {
            "needs_background": "light"
          }
        }
      ]
    },
    {
      "cell_type": "code",
      "source": [
        ""
      ],
      "metadata": {
        "id": "PoXcNVCzpe5e"
      },
      "execution_count": null,
      "outputs": []
    }
  ]
}